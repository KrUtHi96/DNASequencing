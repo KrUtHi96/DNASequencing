{
 "cells": [
  {
   "cell_type": "code",
   "execution_count": 80,
   "metadata": {},
   "outputs": [],
   "source": [
    "overlap_minimum = 12\n",
    "max_error = 3"
   ]
  },
  {
   "cell_type": "code",
   "execution_count": 81,
   "metadata": {},
   "outputs": [],
   "source": [
    "n_pieces = max_error + 1\n",
    "piece_size = overlap_minimum // n_pieces"
   ]
  },
  {
   "cell_type": "code",
   "execution_count": 82,
   "metadata": {},
   "outputs": [],
   "source": [
    "reads = [\n",
    "    'AACCTTTCACGGTCACCCGCGG',\n",
    "    'TTTCACGGTCACCCAGTCAACC',\n",
    "    'GGTTAAACCCGGTAACCGTCAT',\n",
    "    'AACCTTGTGCTCCCAACGTAAA',\n",
    "    'GGTTCCAAACACTTGGTCAATC',\n",
    "    'TTGGAACCTTTCACGGTCACCC']"
   ]
  },
  {
   "cell_type": "code",
   "execution_count": 83,
   "metadata": {},
   "outputs": [],
   "source": [
    "def divide(text):\n",
    "    pieces = [text[i: i + piece_size] for i in range(0, overlap_minimum, piece_size)]\n",
    "    \n",
    "    return pieces\n",
    "\n",
    "#divide('AACCTTTCACGGTCACCCGCGG')\n",
    "    "
   ]
  },
  {
   "cell_type": "code",
   "execution_count": 84,
   "metadata": {},
   "outputs": [
    {
     "data": {
      "text/plain": [
       "'\\nindex = build_index(reads)\\nfor i in range(pieces):\\n    print(i, index[i])\\n'"
      ]
     },
     "execution_count": 84,
     "metadata": {},
     "output_type": "execute_result"
    }
   ],
   "source": [
    "def build_index(reads):\n",
    "    index = [None] * n_pieces\n",
    "    read_n = 1\n",
    "    \n",
    "    for read in reads:\n",
    "        for i in range(n_pieces):\n",
    "            \n",
    "            start = i * piece_size\n",
    "            \n",
    "            piece = read[start:start + piece_size]\n",
    "            \n",
    "            if index[i] == None:\n",
    "                index[i] = {}\n",
    "            if piece not in index[i]:\n",
    "                index[i][piece] = []\n",
    "                \n",
    "            index[i][piece].append(read_n)\n",
    "        read_n += 1\n",
    "    return index\n",
    "'''\n",
    "index = build_index(reads)\n",
    "for i in range(pieces):\n",
    "    print(i, index[i])\n",
    "'''"
   ]
  },
  {
   "cell_type": "code",
   "execution_count": 85,
   "metadata": {},
   "outputs": [
    {
     "data": {
      "text/plain": [
       "\"\\ns = get_suffixes('AACCTTTCACGGTCACCCGCGG')\\nprint(s)\\n\""
      ]
     },
     "execution_count": 85,
     "metadata": {},
     "output_type": "execute_result"
    }
   ],
   "source": [
    "#need to optimize (may be using Suffix Arrays)\n",
    "def get_suffixes(read):\n",
    "    N = len(read)\n",
    "    suffixes = [read[i: ] for i in range(N - overlap_minimum + 1)]\n",
    "    \n",
    "    return suffixes\n",
    "'''\n",
    "s = get_suffixes('AACCTTTCACGGTCACCCGCGG')\n",
    "print(s)\n",
    "'''"
   ]
  },
  {
   "cell_type": "code",
   "execution_count": 86,
   "metadata": {},
   "outputs": [
    {
     "name": "stdout",
     "output_type": "stream",
     "text": [
      "6  ->  1 Score : 18 Error :  0 Longest Suffix AACCTTTCACGGTCACCC\n",
      "6  ->  2 Score : 14 Error :  0 Longest Suffix TTTCACGGTCACCC\n"
     ]
    }
   ],
   "source": [
    "def overlap_scores(reads):\n",
    "    \n",
    "    index = build_index(reads)\n",
    "    \n",
    "    for read_index in range(len(reads)):\n",
    "        for S in get_suffixes(reads[read_index]):\n",
    "            \n",
    "            pieces = divide(S[:overlap_minimum])\n",
    "            \n",
    "            for i in range(n_pieces):\n",
    "                \n",
    "                if pieces[i] in index[i]:\n",
    "                    \n",
    "                    Li = index[i][pieces[i]]\n",
    "                    \n",
    "                    for read_no in Li:\n",
    "                        \n",
    "                        temp, end = 0, (i * piece_size)                        \n",
    "                        s1, s2 = S[:end], reads[read_no - 1][:end]\n",
    "                        \n",
    "                        for char_index in range(end):\n",
    "                            if(s1[char_index] != s2[char_index]):\n",
    "                                temp += 1\n",
    "                                \n",
    "                        if temp < max_error:\n",
    "                            \n",
    "                            temp1, reached_end, start = 0, True, i * piece_size + piece_size\n",
    "                            s1, s2 = S[start:], reads[read_no - 1][start:]\n",
    "                            \n",
    "                            for char_index in range(len(s1)):\n",
    "                                if temp1 == max_error:\n",
    "                                    reached_end = False\n",
    "                                    break\n",
    "                                if s1[char_index] != s2[char_index]:\n",
    "                                    temp1 += 1\n",
    "                                    \n",
    "                            if (reached_end) and (temp1 < max_error):\n",
    "                                if read_index + 1 != read_no:\n",
    "                                    print(read_index + 1,\" -> \", read_no, \"Score :\", len(S), \"Error : \", temp, \"Longest Suffix\", S)\n",
    "                        \n",
    "                    \n",
    "                    break\n",
    "                    \n",
    "overlap_scores(reads)\n",
    "            "
   ]
  },
  {
   "cell_type": "code",
   "execution_count": null,
   "metadata": {},
   "outputs": [],
   "source": []
  }
 ],
 "metadata": {
  "kernelspec": {
   "display_name": "Python 3",
   "language": "python",
   "name": "python3"
  },
  "language_info": {
   "codemirror_mode": {
    "name": "ipython",
    "version": 3
   },
   "file_extension": ".py",
   "mimetype": "text/x-python",
   "name": "python",
   "nbconvert_exporter": "python",
   "pygments_lexer": "ipython3",
   "version": "3.6.4"
  }
 },
 "nbformat": 4,
 "nbformat_minor": 2
}
