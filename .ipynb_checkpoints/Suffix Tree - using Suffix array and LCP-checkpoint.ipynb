{
 "cells": [
  {
   "cell_type": "code",
   "execution_count": 3,
   "metadata": {
    "collapsed": true
   },
   "outputs": [],
   "source": [
    "# Bucket sort for sorting suffixes\n",
    "def bucket_sort(text, buckets, order):\n",
    "    hash_map = {}\n",
    "    for bucket in buckets:\n",
    "        key = text[bucket:bucket+order]\n",
    "        \n",
    "        if key not in hash_map:\n",
    "            hash_map[key] = []\n",
    "        \n",
    "        hash_map[key].append(bucket)\n",
    "    return hash_map"
   ]
  },
  {
   "cell_type": "code",
   "execution_count": 4,
   "metadata": {},
   "outputs": [
    {
     "data": {
      "text/plain": [
       "{'a': [7], 'd': [3], 'e': [4], 'r': [5], 't': [6], 'x': [2], 'z': [0, 1]}"
      ]
     },
     "execution_count": 4,
     "metadata": {},
     "output_type": "execute_result"
    }
   ],
   "source": [
    "a = 'zzxdderta'\n",
    "bucket_sort(a, range(len(a)), 1)"
   ]
  },
  {
   "cell_type": "code",
   "execution_count": null,
   "metadata": {
    "collapsed": true
   },
   "outputs": [],
   "source": []
  }
 ],
 "metadata": {
  "kernelspec": {
   "display_name": "Python 3",
   "language": "python",
   "name": "python3"
  },
  "language_info": {
   "codemirror_mode": {
    "name": "ipython",
    "version": 3
   },
   "file_extension": ".py",
   "mimetype": "text/x-python",
   "name": "python",
   "nbconvert_exporter": "python",
   "pygments_lexer": "ipython3",
   "version": "3.5.4"
  }
 },
 "nbformat": 4,
 "nbformat_minor": 2
}
