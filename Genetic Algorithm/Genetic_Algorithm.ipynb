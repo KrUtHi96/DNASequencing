{
 "cells": [
  {
   "cell_type": "code",
   "execution_count": 46,
   "metadata": {},
   "outputs": [],
   "source": [
    "import numpy as np\n",
    "import random"
   ]
  },
  {
   "cell_type": "code",
   "execution_count": 47,
   "metadata": {},
   "outputs": [],
   "source": [
    "num_of_reads = 5\n",
    "read_len = 4\n",
    "min_overlap = 0\n",
    "# Read from fastq file\n",
    "reads = ['area', 'read', 'adds', 'kind', 'eats']\n",
    "overlap_matrix = np.zeros([num_of_reads, num_of_reads])"
   ]
  },
  {
   "cell_type": "code",
   "execution_count": 48,
   "metadata": {},
   "outputs": [],
   "source": [
    "def overlap(a, b, min_len = 3):\n",
    "    start = 0\n",
    "\n",
    "    while True:\n",
    "        start = a.find(b[:min_len], start)\n",
    "\n",
    "        if start == -1:\n",
    "            return 0\n",
    "\n",
    "        if b.startswith(a[start:]):\n",
    "            return len(a) - start\n",
    "\n",
    "        start += 1"
   ]
  },
  {
   "cell_type": "code",
   "execution_count": 49,
   "metadata": {},
   "outputs": [
    {
     "data": {
      "text/plain": [
       "2"
      ]
     },
     "execution_count": 49,
     "metadata": {},
     "output_type": "execute_result"
    }
   ],
   "source": [
    "overlap('area', 'eats', min_overlap)"
   ]
  },
  {
   "cell_type": "code",
   "execution_count": 50,
   "metadata": {},
   "outputs": [],
   "source": [
    "def build_overlap_matrix(min_len = 3):\n",
    "    global overlap_matrix\n",
    "    for i in range(num_of_reads):\n",
    "        for j in range(num_of_reads):\n",
    "            overlap_matrix[i, j] = overlap(reads[i], reads[j], min_len)"
   ]
  },
  {
   "cell_type": "code",
   "execution_count": 51,
   "metadata": {},
   "outputs": [
    {
     "data": {
      "text/plain": [
       "array([[4., 3., 1., 0., 2.],\n",
       "       [0., 4., 2., 0., 0.],\n",
       "       [0., 0., 4., 0., 0.],\n",
       "       [0., 0., 0., 4., 0.],\n",
       "       [0., 0., 0., 0., 4.]])"
      ]
     },
     "execution_count": 51,
     "metadata": {},
     "output_type": "execute_result"
    }
   ],
   "source": [
    "build_overlap_matrix(min_overlap)\n",
    "overlap_matrix"
   ]
  },
  {
   "cell_type": "code",
   "execution_count": 52,
   "metadata": {},
   "outputs": [],
   "source": [
    "# appends s2 to s1 after removing overlap\n",
    "# For example - if s1 is 'area' and if s2 is 'eats' then this function will return 'areats'\n",
    "def add(s1, s2):\n",
    "    offset = overlap(s1, s2, min_overlap)\n",
    "    return s1 + s2[offset:]"
   ]
  },
  {
   "cell_type": "code",
   "execution_count": 53,
   "metadata": {},
   "outputs": [
    {
     "data": {
      "text/plain": [
       "'areats'"
      ]
     },
     "execution_count": 53,
     "metadata": {},
     "output_type": "execute_result"
    }
   ],
   "source": [
    "add('area', 'eats')"
   ]
  },
  {
   "cell_type": "code",
   "execution_count": 54,
   "metadata": {},
   "outputs": [],
   "source": [
    "def initialize_population(size):\n",
    "    i = 0\n",
    "    population = {} # key is genome and value is index of the reads used to create that genome\n",
    "    while i < size:\n",
    "        genome = ''\n",
    "        index_list = [] # To remember the order of the reads used for the generation of genome -\n",
    "        # - helps in calculation of fitness scores\n",
    "        temp = list(range(num_of_reads))\n",
    "        while temp:\n",
    "            index = random.choice(temp)\n",
    "            genome = add(genome, reads[index])\n",
    "            temp.remove(index)\n",
    "            index_list.append(index)\n",
    "        if genome not in population:\n",
    "            population[genome] = index_list\n",
    "            i += 1\n",
    "    return population"
   ]
  },
  {
   "cell_type": "code",
   "execution_count": 55,
   "metadata": {},
   "outputs": [
    {
     "name": "stdout",
     "output_type": "stream",
     "text": [
      "{'readareaddseatskind': [1, 0, 2, 4, 3], 'addseatskindreadarea': [2, 4, 3, 1, 0], 'areadeatskindadds': [0, 1, 4, 3, 2]}\n"
     ]
    }
   ],
   "source": [
    "population = initialize_population(3)\n",
    "print(population)"
   ]
  },
  {
   "cell_type": "code",
   "execution_count": 60,
   "metadata": {},
   "outputs": [],
   "source": [
    "# Calculates overlap score for adjacent fragments\n",
    "def fitness_score1(index_list):\n",
    "    score = 0\n",
    "    for i in range(len(index_list) - 1):\n",
    "        score += overlap_matrix[index_list[i]][index_list[i + 1]]\n",
    "    return score"
   ]
  },
  {
   "cell_type": "code",
   "execution_count": 68,
   "metadata": {},
   "outputs": [
    {
     "data": {
      "text/plain": [
       "3.0"
      ]
     },
     "execution_count": 68,
     "metadata": {},
     "output_type": "execute_result"
    }
   ],
   "source": [
    "fitness_score1(population['areadeatskindadds'])"
   ]
  },
  {
   "cell_type": "code",
   "execution_count": 62,
   "metadata": {},
   "outputs": [],
   "source": [
    "# Calculates overlap score for all pairs of fragments - see paper\n",
    "def fitness_score2(index_list):\n",
    "    score = 0\n",
    "    for i in range(len(index_list) - 1):\n",
    "        for j in range(len(index_list) - 1):\n",
    "            score = score + (abs(i - j) * overlap_matrix[index_list[i]][index_list[j]])\n",
    "    return score"
   ]
  },
  {
   "cell_type": "code",
   "execution_count": 63,
   "metadata": {},
   "outputs": [
    {
     "data": {
      "text/plain": [
       "12.0"
      ]
     },
     "execution_count": 63,
     "metadata": {},
     "output_type": "execute_result"
    }
   ],
   "source": [
    "fitness_score2(population['readareaddseatskind'])"
   ]
  },
  {
   "cell_type": "code",
   "execution_count": 66,
   "metadata": {},
   "outputs": [],
   "source": [
    "# Selection based on ranking - so sorting required\n",
    "# fn - which fitness function to use\n",
    "def selection(population, n, fn):\n",
    "    # Sort the genomes based on fitness_scores in descending order\n",
    "    # return the first n genomes\n",
    "    new_population = {}\n",
    "    fitness = {}\n",
    "    for i in population:\n",
    "        fitness[i] = fn(population[i])\n",
    "    ordered = sorted(fitness.items(), key = lambda x : x[1], reverse = True)\n",
    "    for i in range(n):\n",
    "        genome = ordered[i][0]\n",
    "        new_population[genome] = population[genome]\n",
    "    return new_population"
   ]
  },
  {
   "cell_type": "code",
   "execution_count": 69,
   "metadata": {},
   "outputs": [
    {
     "data": {
      "text/plain": [
       "{'areadeatskindadds': [0, 1, 4, 3, 2], 'readareaddseatskind': [1, 0, 2, 4, 3]}"
      ]
     },
     "execution_count": 69,
     "metadata": {},
     "output_type": "execute_result"
    }
   ],
   "source": [
    "population = selection(population, 2, fitness_score1)\n",
    "population"
   ]
  },
  {
   "cell_type": "code",
   "execution_count": null,
   "metadata": {},
   "outputs": [],
   "source": [
    "def crossover1():\n",
    "    "
   ]
  }
 ],
 "metadata": {
  "kernelspec": {
   "display_name": "Python 3",
   "language": "python",
   "name": "python3"
  },
  "language_info": {
   "codemirror_mode": {
    "name": "ipython",
    "version": 3
   },
   "file_extension": ".py",
   "mimetype": "text/x-python",
   "name": "python",
   "nbconvert_exporter": "python",
   "pygments_lexer": "ipython3",
   "version": "3.6.4"
  }
 },
 "nbformat": 4,
 "nbformat_minor": 2
}
