{
 "cells": [
  {
   "cell_type": "code",
   "execution_count": 25,
   "metadata": {
    "collapsed": true
   },
   "outputs": [],
   "source": [
    "import numpy as np\n",
    "import random"
   ]
  },
  {
   "cell_type": "code",
   "execution_count": 26,
   "metadata": {
    "collapsed": true
   },
   "outputs": [],
   "source": [
    "num_of_reads = 5\n",
    "read_len = 4\n",
    "min_overlap = 0\n",
    "# Read from fastq file\n",
    "reads = ['area', 'read', 'adds', 'kind', 'eats']\n",
    "overlap_matrix = np.zeros([num_of_reads, num_of_reads])"
   ]
  },
  {
   "cell_type": "code",
   "execution_count": 27,
   "metadata": {
    "collapsed": true
   },
   "outputs": [],
   "source": [
    "def overlap(a, b, min_len = 3):\n",
    "    start = 0\n",
    "\n",
    "    while True:\n",
    "        start = a.find(b[:min_len], start)\n",
    "\n",
    "        if start == -1:\n",
    "            return 0\n",
    "\n",
    "        if b.startswith(a[start:]):\n",
    "            return len(a) - start\n",
    "\n",
    "        start += 1"
   ]
  },
  {
   "cell_type": "code",
   "execution_count": 28,
   "metadata": {},
   "outputs": [
    {
     "data": {
      "text/plain": [
       "2"
      ]
     },
     "execution_count": 28,
     "metadata": {},
     "output_type": "execute_result"
    }
   ],
   "source": [
    "overlap('area', 'eats', min_overlap)"
   ]
  },
  {
   "cell_type": "code",
   "execution_count": 29,
   "metadata": {
    "collapsed": true
   },
   "outputs": [],
   "source": [
    "def build_overlap_matrix(min_len = 3):\n",
    "    global overlap_matrix\n",
    "    for i in range(num_of_reads):\n",
    "        for j in range(num_of_reads):\n",
    "            overlap_matrix[i, j] = overlap(reads[i], reads[j], min_len)"
   ]
  },
  {
   "cell_type": "code",
   "execution_count": 30,
   "metadata": {},
   "outputs": [
    {
     "data": {
      "text/plain": [
       "array([[4., 3., 1., 0., 2.],\n",
       "       [0., 4., 2., 0., 0.],\n",
       "       [0., 0., 4., 0., 0.],\n",
       "       [0., 0., 0., 4., 0.],\n",
       "       [0., 0., 0., 0., 4.]])"
      ]
     },
     "execution_count": 30,
     "metadata": {},
     "output_type": "execute_result"
    }
   ],
   "source": [
    "build_overlap_matrix(min_overlap)\n",
    "overlap_matrix"
   ]
  },
  {
   "cell_type": "code",
   "execution_count": 31,
   "metadata": {
    "collapsed": true
   },
   "outputs": [],
   "source": [
    "# appends s2 to s1 after removing overlap\n",
    "# For example - if s1 is 'area' and if s2 is 'eats' then this function will return 'areats'\n",
    "def add(s1, s2): \n",
    "    offset = overlap(s1, s2, min_overlap)\n",
    "    return s1 + s2[offset:]"
   ]
  },
  {
   "cell_type": "code",
   "execution_count": 32,
   "metadata": {},
   "outputs": [
    {
     "data": {
      "text/plain": [
       "'areats'"
      ]
     },
     "execution_count": 32,
     "metadata": {},
     "output_type": "execute_result"
    }
   ],
   "source": [
    "add('area', 'eats')"
   ]
  },
  {
   "cell_type": "code",
   "execution_count": 33,
   "metadata": {
    "collapsed": true
   },
   "outputs": [],
   "source": [
    "def generate_genome(index_list):\n",
    "    genome = ''\n",
    "    for i in index_list:\n",
    "        genome = add(genome, reads[i])\n",
    "    return genome"
   ]
  },
  {
   "cell_type": "code",
   "execution_count": 34,
   "metadata": {},
   "outputs": [
    {
     "data": {
      "text/plain": [
       "'kindaddseatsreadarea'"
      ]
     },
     "execution_count": 34,
     "metadata": {},
     "output_type": "execute_result"
    }
   ],
   "source": [
    "generate_genome([3, 2, 4, 1, 0])"
   ]
  },
  {
   "cell_type": "code",
   "execution_count": 35,
   "metadata": {
    "collapsed": true
   },
   "outputs": [],
   "source": [
    "def initialize_population(size):\n",
    "    i = 0\n",
    "    population = {} # key is genome and value is index of the reads used to create that genome\n",
    "    while i < size:\n",
    "        index_list = [] # To remember the order of the reads used for the generation of genome -\n",
    "        # - helps in calculation of fitness scores\n",
    "        temp = list(range(num_of_reads))\n",
    "        while temp:\n",
    "            index = random.choice(temp)\n",
    "            temp.remove(index)\n",
    "            index_list.append(index)\n",
    "        genome = generate_genome(index_list)\n",
    "        if genome not in population:\n",
    "            population[genome] = index_list\n",
    "            i += 1\n",
    "    return population"
   ]
  },
  {
   "cell_type": "code",
   "execution_count": 36,
   "metadata": {},
   "outputs": [
    {
     "name": "stdout",
     "output_type": "stream",
     "text": [
      "{'areaddseatsreadkind': [0, 2, 4, 1, 3], 'eatsreadareakindadds': [4, 1, 0, 3, 2], 'kindreadareaddseats': [3, 1, 0, 2, 4]}\n"
     ]
    }
   ],
   "source": [
    "population = initialize_population(3)\n",
    "print(population)"
   ]
  },
  {
   "cell_type": "code",
   "execution_count": 39,
   "metadata": {
    "collapsed": true
   },
   "outputs": [],
   "source": [
    "# Calculates overlap score for adjacent fragments\n",
    "def fitness_score1(index_list):\n",
    "    score = 0\n",
    "    for i in range(len(index_list) - 1):\n",
    "        score += overlap_matrix[index_list[i]][index_list[i + 1]]\n",
    "    return score"
   ]
  },
  {
   "cell_type": "code",
   "execution_count": 40,
   "metadata": {},
   "outputs": [
    {
     "data": {
      "text/plain": [
       "1.0"
      ]
     },
     "execution_count": 40,
     "metadata": {},
     "output_type": "execute_result"
    }
   ],
   "source": [
    "fitness_score1(population[list(population.keys())[0]])"
   ]
  },
  {
   "cell_type": "code",
   "execution_count": 41,
   "metadata": {
    "collapsed": true
   },
   "outputs": [],
   "source": [
    "# Calculates overlap score for all pairs of fragments - see paper\n",
    "def fitness_score2(index_list):\n",
    "    score = 0\n",
    "    for i in range(len(index_list) - 1):\n",
    "        for j in range(len(index_list) - 1):\n",
    "            score = score + (abs(i - j) * overlap_matrix[index_list[i]][index_list[j]])\n",
    "    return score"
   ]
  },
  {
   "cell_type": "code",
   "execution_count": 42,
   "metadata": {},
   "outputs": [
    {
     "data": {
      "text/plain": [
       "18.0"
      ]
     },
     "execution_count": 42,
     "metadata": {},
     "output_type": "execute_result"
    }
   ],
   "source": [
    "fitness_score2(population[list(population.keys())[0]])"
   ]
  },
  {
   "cell_type": "code",
   "execution_count": 43,
   "metadata": {
    "collapsed": true
   },
   "outputs": [],
   "source": [
    "# Selection based on ranking - so sorting required\n",
    "# fn - which fitness function to use\n",
    "def selection(population, n, fn):\n",
    "    # Sort the genomes based on fitness_scores in descending order\n",
    "    # return the first n genomes\n",
    "    new_population = {}\n",
    "    fitness = {}\n",
    "    for i in population:\n",
    "        fitness[i] = fn(population[i])\n",
    "    ordered = sorted(fitness.items(), key = lambda x : x[1], reverse = True)\n",
    "    for i in range(n):\n",
    "        genome = ordered[i][0]\n",
    "        new_population[genome] = population[genome]\n",
    "    return new_population"
   ]
  },
  {
   "cell_type": "code",
   "execution_count": 44,
   "metadata": {},
   "outputs": [
    {
     "data": {
      "text/plain": [
       "{'areaddseatsreadkind': [0, 2, 4, 1, 3],\n",
       " 'kindreadareaddseats': [3, 1, 0, 2, 4]}"
      ]
     },
     "execution_count": 44,
     "metadata": {},
     "output_type": "execute_result"
    }
   ],
   "source": [
    "population = selection(population, 2, fitness_score1)\n",
    "population"
   ]
  },
  {
   "cell_type": "code",
   "execution_count": 49,
   "metadata": {
    "collapsed": true
   },
   "outputs": [],
   "source": [
    "# Order 1 crossover - swath(strip of area) is from start to end both inclusive\n",
    "# p1, p2 are the index_list of the population\n",
    "def crossover1(p1, p2, start, end):\n",
    "    child = {}\n",
    "    temp = p1[start : end + 1]\n",
    "    count = 0\n",
    "    for i in p2:\n",
    "        if i not in temp:\n",
    "            if count < start:\n",
    "                temp = [i] + temp\n",
    "            else:\n",
    "                temp = temp + [i]\n",
    "            count += 1\n",
    "    genome = generate_genome(temp)\n",
    "    child[genome] = temp\n",
    "    return child"
   ]
  },
  {
   "cell_type": "code",
   "execution_count": 50,
   "metadata": {},
   "outputs": [
    {
     "name": "stdout",
     "output_type": "stream",
     "text": [
      "{'areaddseatsreadkind': [0, 2, 4, 1, 3], 'kindreadareaddseats': [3, 1, 0, 2, 4]}\n"
     ]
    },
    {
     "data": {
      "text/plain": [
       "{'kindaddseatsreadarea': [3, 2, 4, 1, 0]}"
      ]
     },
     "execution_count": 50,
     "metadata": {},
     "output_type": "execute_result"
    }
   ],
   "source": [
    "print(population)\n",
    "keys = list(population.keys())\n",
    "crossover1(population[keys[0]], population[keys[1]], 1, 3)"
   ]
  },
  {
   "cell_type": "code",
   "execution_count": null,
   "metadata": {
    "collapsed": true
   },
   "outputs": [],
   "source": [
    ""
   ]
  }
 ],
 "metadata": {
  "kernelspec": {
   "display_name": "Python 3",
   "language": "python",
   "name": "python3"
  },
  "language_info": {
   "codemirror_mode": {
    "name": "ipython",
    "version": 3.0
   },
   "file_extension": ".py",
   "mimetype": "text/x-python",
   "name": "python",
   "nbconvert_exporter": "python",
   "pygments_lexer": "ipython3",
   "version": "3.5.4"
  }
 },
 "nbformat": 4,
 "nbformat_minor": 0
}