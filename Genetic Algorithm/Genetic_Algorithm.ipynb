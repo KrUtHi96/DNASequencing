{
 "cells": [
  {
   "cell_type": "code",
   "execution_count": 1,
   "metadata": {
    "collapsed": true
   },
   "outputs": [],
   "source": [
    "import numpy as np\n",
    "import random"
   ]
  },
  {
   "cell_type": "code",
   "execution_count": 2,
   "metadata": {
    "collapsed": true
   },
   "outputs": [],
   "source": [
    "# Read from fastq file\n",
    "reads = [\n",
    "    'AACCTTTCACGGTCACCCGCGG',\n",
    "    'TTTCACGGTCACCCAGTCAACC',\n",
    "    'GGTTAAACCCGGTAACCGTCAT',\n",
    "    'AACCTTGTGCTCCCAACGTAAA',\n",
    "    'GGTTCCAAACACTTGGTCAATC',\n",
    "    'TTGGAACCTTTCACGGTCACCC']"
   ]
  },
  {
   "cell_type": "code",
   "execution_count": 3,
   "metadata": {},
   "outputs": [
    {
     "data": {
      "text/plain": [
       "22"
      ]
     },
     "execution_count": 3,
     "metadata": {},
     "output_type": "execute_result"
    }
   ],
   "source": [
    "overlap_minimum = 12\n",
    "max_error = 3\n",
    "n_pieces = max_error + 1\n",
    "piece_size = overlap_minimum // n_pieces\n",
    "num_of_reads = len(reads)\n",
    "read_len = len(reads[0])\n",
    "read_len"
   ]
  },
  {
   "cell_type": "code",
   "execution_count": 4,
   "metadata": {
    "collapsed": true
   },
   "outputs": [],
   "source": [
    "def divide(text):\n",
    "    pieces = [text[i: i + piece_size] for i in range(0, overlap_minimum, piece_size)]\n",
    "    \n",
    "    return pieces"
   ]
  },
  {
   "cell_type": "code",
   "execution_count": 5,
   "metadata": {
    "collapsed": true
   },
   "outputs": [],
   "source": [
    "def build_index(reads):\n",
    "    index = [None] * n_pieces\n",
    "    read_n = 1\n",
    "    \n",
    "    for read in reads:\n",
    "        for i in range(n_pieces):\n",
    "            \n",
    "            start = i * piece_size\n",
    "            \n",
    "            piece = read[start:start + piece_size]\n",
    "            \n",
    "            if index[i] == None:\n",
    "                index[i] = {}\n",
    "            if piece not in index[i]:\n",
    "                index[i][piece] = []\n",
    "                \n",
    "            index[i][piece].append(read_n)\n",
    "        read_n += 1\n",
    "    return index"
   ]
  },
  {
   "cell_type": "code",
   "execution_count": 6,
   "metadata": {
    "collapsed": true
   },
   "outputs": [],
   "source": [
    "def get_suffixes(read):\n",
    "    N = len(read)\n",
    "    suffixes = [read[i: ] for i in range(N - overlap_minimum + 1)]\n",
    "    \n",
    "    return suffixes"
   ]
  },
  {
   "cell_type": "code",
   "execution_count": 7,
   "metadata": {
    "collapsed": true
   },
   "outputs": [],
   "source": [
    "def overlap_scores(reads):\n",
    "    \n",
    "    num_of_reads = len(reads)\n",
    "    \n",
    "    matrix = np.zeros(shape = [num_of_reads, num_of_reads])\n",
    "    \n",
    "    index = build_index(reads)\n",
    "    \n",
    "    for read_index in range(num_of_reads):\n",
    "        for S in get_suffixes(reads[read_index]):\n",
    "            \n",
    "            pieces = divide(S[:overlap_minimum])\n",
    "            \n",
    "            for i in range(n_pieces):\n",
    "                \n",
    "                if pieces[i] in index[i]:\n",
    "                    \n",
    "                    Li = index[i][pieces[i]]\n",
    "                    \n",
    "                    for read_no in Li:\n",
    "                        \n",
    "                        temp, end = 0, (i * piece_size)                        \n",
    "                        s1, s2 = S[:end], reads[read_no - 1][:end]\n",
    "                        \n",
    "                        for char_index in range(end):\n",
    "                            if(s1[char_index] != s2[char_index]):\n",
    "                                temp += 1\n",
    "                                \n",
    "                        if temp < max_error:\n",
    "                            \n",
    "                            temp1, reached_end, start = 0, True, i * piece_size + piece_size\n",
    "                            s1, s2 = S[start:], reads[read_no - 1][start:]\n",
    "                            \n",
    "                            for char_index in range(len(s1)):\n",
    "                                if temp1 == max_error:\n",
    "                                    reached_end = False\n",
    "                                    break\n",
    "                                if s1[char_index] != s2[char_index]:\n",
    "                                    temp1 += 1\n",
    "                                    \n",
    "                            if (reached_end) and (temp1 < max_error):\n",
    "                                if read_index + 1 != read_no:\n",
    "                                    score = len(S)\n",
    "                                    matrix[read_index, read_no - 1] = score - temp\n",
    "#                                   print(read_index + 1,\" -> \", read_no, \"Score :\", score, \"Error : \", temp)\n",
    "                                    \n",
    "                        \n",
    "                    \n",
    "                    break\n",
    "    return matrix"
   ]
  },
  {
   "cell_type": "code",
   "execution_count": 8,
   "metadata": {},
   "outputs": [
    {
     "data": {
      "text/plain": [
       "array([[ 0.,  0.,  0.,  0.,  0.,  0.],\n",
       "       [ 0.,  0.,  0.,  0.,  0.,  0.],\n",
       "       [ 0.,  0.,  0.,  0.,  0.,  0.],\n",
       "       [ 0.,  0.,  0.,  0.,  0.,  0.],\n",
       "       [ 0.,  0.,  0.,  0.,  0.,  0.],\n",
       "       [18., 14.,  0.,  0.,  0.,  0.]])"
      ]
     },
     "execution_count": 8,
     "metadata": {},
     "output_type": "execute_result"
    }
   ],
   "source": [
    "overlap_matrix = overlap_scores(reads)\n",
    "overlap_matrix"
   ]
  },
  {
   "cell_type": "code",
   "execution_count": 9,
   "metadata": {
    "collapsed": true
   },
   "outputs": [],
   "source": [
    "# appends s2 to s1 after removing overlap\n",
    "# For example - if s1 is 'datarea' and if s2 is 'eats' then this function will return 'datareats'\n",
    "def add(s1, s2):\n",
    "    offset = int(overlap_matrix[s1][s2])\n",
    "    return reads[s2][offset:]"
   ]
  },
  {
   "cell_type": "code",
   "execution_count": 10,
   "metadata": {},
   "outputs": [
    {
     "data": {
      "text/plain": [
       "22"
      ]
     },
     "execution_count": 10,
     "metadata": {},
     "output_type": "execute_result"
    }
   ],
   "source": [
    "len(add(0, 1))"
   ]
  },
  {
   "cell_type": "code",
   "execution_count": 11,
   "metadata": {
    "collapsed": true
   },
   "outputs": [],
   "source": [
    "def generate_genome(index_list):\n",
    "    genome = reads[index_list[0]]\n",
    "    for i in range(1, len(index_list)):\n",
    "        genome += add(index_list[i - 1], index_list[i])\n",
    "    return genome"
   ]
  },
  {
   "cell_type": "code",
   "execution_count": 12,
   "metadata": {},
   "outputs": [
    {
     "data": {
      "text/plain": [
       "92"
      ]
     },
     "execution_count": 12,
     "metadata": {},
     "output_type": "execute_result"
    }
   ],
   "source": [
    "len(generate_genome([5, 0, 3, 2, 1]))"
   ]
  },
  {
   "cell_type": "code",
   "execution_count": 13,
   "metadata": {
    "collapsed": true
   },
   "outputs": [],
   "source": [
    "def initialize_population(size):\n",
    "    i = 0\n",
    "    population = {} # key is genome and value is index of the reads used to create that genome\n",
    "    while i < size:\n",
    "        index_list = [] # To remember the order of the reads used for the generation of genome -\n",
    "        # - helps in calculation of fitness scores\n",
    "        temp = list(range(num_of_reads))\n",
    "        while temp:\n",
    "            index = random.choice(temp)\n",
    "            temp.remove(index)\n",
    "            index_list.append(index)\n",
    "        genome = generate_genome(index_list)\n",
    "        if genome not in population:\n",
    "            population[genome] = index_list\n",
    "            i += 1\n",
    "    return population"
   ]
  },
  {
   "cell_type": "code",
   "execution_count": 14,
   "metadata": {},
   "outputs": [
    {
     "name": "stdout",
     "output_type": "stream",
     "text": [
      "{'GGTTCCAAACACTTGGTCAATCTTGGAACCTTTCACGGTCACCCGGTTAAACCCGGTAACCGTCATAACCTTTCACGGTCACCCGCGGTTTCACGGTCACCCAGTCAACCAACCTTGTGCTCCCAACGTAAA': [4, 5, 2, 0, 1, 3], 'GGTTAAACCCGGTAACCGTCATAACCTTGTGCTCCCAACGTAAATTTCACGGTCACCCAGTCAACCTTGGAACCTTTCACGGTCACCCGGTTCCAAACACTTGGTCAATCAACCTTTCACGGTCACCCGCGG': [2, 3, 1, 5, 4, 0], 'TTTCACGGTCACCCAGTCAACCGGTTAAACCCGGTAACCGTCATAACCTTGTGCTCCCAACGTAAATTGGAACCTTTCACGGTCACCCGGTTCCAAACACTTGGTCAATCAACCTTTCACGGTCACCCGCGG': [1, 2, 3, 5, 4, 0]}\n"
     ]
    }
   ],
   "source": [
    "population = initialize_population(3)\n",
    "print(population)"
   ]
  },
  {
   "cell_type": "code",
   "execution_count": 15,
   "metadata": {
    "collapsed": true
   },
   "outputs": [],
   "source": [
    "# Calculates overlap score for adjacent fragments\n",
    "def fitness_score1(index_list):\n",
    "    score = 0\n",
    "    for i in range(len(index_list) - 1):\n",
    "        score += overlap_matrix[index_list[i]][index_list[i + 1]]\n",
    "    return score"
   ]
  },
  {
   "cell_type": "code",
   "execution_count": 16,
   "metadata": {},
   "outputs": [
    {
     "name": "stdout",
     "output_type": "stream",
     "text": [
      "0.0\n",
      "0.0\n",
      "0.0\n"
     ]
    }
   ],
   "source": [
    "for i in population:\n",
    "    print(fitness_score1(population[i]))"
   ]
  },
  {
   "cell_type": "code",
   "execution_count": 17,
   "metadata": {
    "collapsed": true
   },
   "outputs": [],
   "source": [
    "# Calculates overlap score for all pairs of fragments - see paper\n",
    "def fitness_score2(index_list):\n",
    "    score = 0\n",
    "    for i in range(len(index_list) - 1):\n",
    "        for j in range(len(index_list) - 1):\n",
    "            score = score + (abs(i - j) * overlap_matrix[index_list[i]][index_list[j]])\n",
    "    return score"
   ]
  },
  {
   "cell_type": "code",
   "execution_count": 18,
   "metadata": {},
   "outputs": [
    {
     "name": "stdout",
     "output_type": "stream",
     "text": [
      "78.0\n",
      "14.0\n",
      "42.0\n"
     ]
    }
   ],
   "source": [
    "for i in population:\n",
    "    print(fitness_score2(population[i]))"
   ]
  },
  {
   "cell_type": "code",
   "execution_count": 19,
   "metadata": {
    "collapsed": true
   },
   "outputs": [],
   "source": [
    "# Selection based on ranking - so sorting required\n",
    "# fn - which fitness function to use\n",
    "def selection(population, n, fn):\n",
    "    # Sort the genomes based on fitness_scores in descending order\n",
    "    # return the first n genomes\n",
    "    new_population = {}\n",
    "    fitness = {}\n",
    "    for i in population:\n",
    "        fitness[i] = fn(population[i])\n",
    "    ordered = sorted(fitness.items(), key = lambda x : x[1], reverse = True)\n",
    "    for i in range(n):\n",
    "        genome = ordered[i][0]\n",
    "        new_population[genome] = population[genome]\n",
    "    return new_population, fitness"
   ]
  },
  {
   "cell_type": "code",
   "execution_count": 20,
   "metadata": {},
   "outputs": [
    {
     "name": "stdout",
     "output_type": "stream",
     "text": [
      "{'GGTTCCAAACACTTGGTCAATCTTGGAACCTTTCACGGTCACCCGGTTAAACCCGGTAACCGTCATAACCTTTCACGGTCACCCGCGGTTTCACGGTCACCCAGTCAACCAACCTTGTGCTCCCAACGTAAA': [4, 5, 2, 0, 1, 3], 'GGTTAAACCCGGTAACCGTCATAACCTTGTGCTCCCAACGTAAATTTCACGGTCACCCAGTCAACCTTGGAACCTTTCACGGTCACCCGGTTCCAAACACTTGGTCAATCAACCTTTCACGGTCACCCGCGG': [2, 3, 1, 5, 4, 0]} {'GGTTCCAAACACTTGGTCAATCTTGGAACCTTTCACGGTCACCCGGTTAAACCCGGTAACCGTCATAACCTTTCACGGTCACCCGCGGTTTCACGGTCACCCAGTCAACCAACCTTGTGCTCCCAACGTAAA': 0.0, 'GGTTAAACCCGGTAACCGTCATAACCTTGTGCTCCCAACGTAAATTTCACGGTCACCCAGTCAACCTTGGAACCTTTCACGGTCACCCGGTTCCAAACACTTGGTCAATCAACCTTTCACGGTCACCCGCGG': 0.0, 'TTTCACGGTCACCCAGTCAACCGGTTAAACCCGGTAACCGTCATAACCTTGTGCTCCCAACGTAAATTGGAACCTTTCACGGTCACCCGGTTCCAAACACTTGGTCAATCAACCTTTCACGGTCACCCGCGG': 0.0}\n"
     ]
    }
   ],
   "source": [
    "population, fitness = selection(population, 2, fitness_score1)\n",
    "print(population, fitness)"
   ]
  },
  {
   "cell_type": "code",
   "execution_count": 21,
   "metadata": {
    "collapsed": true
   },
   "outputs": [],
   "source": [
    "# Order 1 crossover - swath(strip of area) is from start to end both inclusive\n",
    "# p1, p2 are the index_list of the population\n",
    "# child is also an index_list\n",
    "def crossover1(p1, p2, start, end):\n",
    "    temp = p1[start : end + 1]\n",
    "    count = 0\n",
    "    for i in p2:\n",
    "        if i not in temp:\n",
    "            if count < start:\n",
    "                temp = [i] + temp\n",
    "            else:\n",
    "                temp = temp + [i]\n",
    "            count += 1\n",
    "    genome = generate_genome(temp)\n",
    "    return genome, temp"
   ]
  },
  {
   "cell_type": "code",
   "execution_count": 22,
   "metadata": {},
   "outputs": [
    {
     "name": "stdout",
     "output_type": "stream",
     "text": [
      "{'GGTTCCAAACACTTGGTCAATCTTGGAACCTTTCACGGTCACCCGGTTAAACCCGGTAACCGTCATAACCTTTCACGGTCACCCGCGGTTTCACGGTCACCCAGTCAACCAACCTTGTGCTCCCAACGTAAA': [4, 5, 2, 0, 1, 3], 'GGTTAAACCCGGTAACCGTCATAACCTTGTGCTCCCAACGTAAATTTCACGGTCACCCAGTCAACCTTGGAACCTTTCACGGTCACCCGGTTCCAAACACTTGGTCAATCAACCTTTCACGGTCACCCGCGG': [2, 3, 1, 5, 4, 0]}\n"
     ]
    },
    {
     "data": {
      "text/plain": [
       "{'AACCTTGTGCTCCCAACGTAAATTGGAACCTTTCACGGTCACCCGGTTAAACCCGGTAACCGTCATAACCTTTCACGGTCACCCGCGGTTTCACGGTCACCCAGTCAACCGGTTCCAAACACTTGGTCAATC': [3,\n",
       "  5,\n",
       "  2,\n",
       "  0,\n",
       "  1,\n",
       "  4]}"
      ]
     },
     "execution_count": 22,
     "metadata": {},
     "output_type": "execute_result"
    }
   ],
   "source": [
    "print(population)\n",
    "keys = list(population.keys())\n",
    "crossover1(population[keys[0]], population[keys[1]], 1, 3)"
   ]
  },
  {
   "cell_type": "code",
   "execution_count": 23,
   "metadata": {
    "collapsed": true
   },
   "outputs": [],
   "source": [
    "# Edge Recombination\n",
    "def crossover2():\n",
    "    pass"
   ]
  },
  {
   "cell_type": "code",
   "execution_count": 24,
   "metadata": {
    "collapsed": true
   },
   "outputs": [],
   "source": [
    "def mutation(index_list):\n",
    "    a = random.randint(0, num_of_reads - 1)\n",
    "    b = random.randint(0, num_of_reads - 1)\n",
    "    index_list[a], index_list[b] = index_list[b], index_list[a]\n",
    "    return index_list"
   ]
  },
  {
   "cell_type": "code",
   "execution_count": 25,
   "metadata": {},
   "outputs": [
    {
     "name": "stdout",
     "output_type": "stream",
     "text": [
      "[0, 1, 2, 3, 4, 5] AACCTTTCACGGTCACCCGCGGTTTCACGGTCACCCAGTCAACCGGTTAAACCCGGTAACCGTCATAACCTTGTGCTCCCAACGTAAAGGTTCCAAACACTTGGTCAATCTTGGAACCTTTCACGGTCACCC\n"
     ]
    }
   ],
   "source": [
    "temp = mutation([0, 1, 2, 3, 4, 5])\n",
    "print(temp, generate_genome(temp))"
   ]
  },
  {
   "cell_type": "code",
   "execution_count": 26,
   "metadata": {
    "collapsed": true
   },
   "outputs": [],
   "source": [
    "def genetic_algorithm(size = 5, generations = 100, select_n = 3, threshold = 20, start = 2, end = 4):\n",
    "    population = initialize_population(size)\n",
    "    count = 1\n",
    "    while count < generations:\n",
    "        print(\"Iteration:\", count)\n",
    "\n",
    "        population, fitness = selection(population, select_n, fitness_score1)\n",
    "        \n",
    "        #if any fitness core is greater than 100 break\n",
    "        for i in fitness:\n",
    "            if fitness[i] >= threshold:\n",
    "                return i\n",
    "        \n",
    "        #crossover\n",
    "        while len(population) < size:\n",
    "            print(len(population), size)\n",
    "            temp = list(population.values())\n",
    "            a = random.choice(temp)\n",
    "            b = random.choice(temp)\n",
    "            if a != b:\n",
    "                print(\"CHeck\", a, b)\n",
    "                genome, index_list = crossover1(a, b, start, end)\n",
    "                if genome not in population:\n",
    "                    population[genome] = index_list\n",
    "        \n",
    "        #mutation\n",
    "        for i in list(population.keys()):\n",
    "            temp = mutation(population[i])\n",
    "            population.pop(i)\n",
    "            temp_gen = generate_genome(temp)\n",
    "            population[temp_gen] = temp\n",
    "    \n",
    "        count += 1\n",
    "\n",
    "    return None"
   ]
  },
  {
   "cell_type": "code",
   "execution_count": 27,
   "metadata": {
    "scrolled": false
   },
   "outputs": [
    {
     "name": "stdout",
     "output_type": "stream",
     "text": [
      "Iteration: 1\n",
      "Iteration: 2\n",
      "Iteration: 3\n",
      "Iteration: 4\n",
      "Iteration: 5\n",
      "Iteration: 6\n",
      "Iteration: 7\n",
      "Iteration: 8\n",
      "Iteration: 9\n",
      "Iteration: 10\n",
      "Iteration: 11\n",
      "Iteration: 12\n",
      "Iteration: 13\n",
      "Iteration: 14\n",
      "Iteration: 15\n",
      "Iteration: 16\n",
      "Iteration: 17\n",
      "Iteration: 18\n",
      "Iteration: 19\n",
      "Iteration: 20\n",
      "Iteration: 21\n",
      "Iteration: 22\n",
      "Iteration: 23\n"
     ]
    },
    {
     "ename": "KeyboardInterrupt",
     "evalue": "",
     "output_type": "error",
     "traceback": [
      "\u001b[1;31m---------------------------------------------------------------------------\u001b[0m",
      "\u001b[1;31mKeyboardInterrupt\u001b[0m                         Traceback (most recent call last)",
      "\u001b[1;32m<ipython-input-27-ac22c91678e0>\u001b[0m in \u001b[0;36m<module>\u001b[1;34m()\u001b[0m\n\u001b[1;32m----> 1\u001b[1;33m \u001b[0mgenetic_algorithm\u001b[0m\u001b[1;33m(\u001b[0m\u001b[1;33m)\u001b[0m\u001b[1;33m\u001b[0m\u001b[0m\n\u001b[0m",
      "\u001b[1;32m<ipython-input-26-85031d7efb21>\u001b[0m in \u001b[0;36mgenetic_algorithm\u001b[1;34m(size, generations, select_n, threshold, start, end)\u001b[0m\n\u001b[0;32m     20\u001b[0m             \u001b[1;32mif\u001b[0m \u001b[0ma\u001b[0m \u001b[1;33m!=\u001b[0m \u001b[0mb\u001b[0m\u001b[1;33m:\u001b[0m\u001b[1;33m\u001b[0m\u001b[0m\n\u001b[0;32m     21\u001b[0m \u001b[1;31m#                 print(\"CHeck\", a, b)\u001b[0m\u001b[1;33m\u001b[0m\u001b[1;33m\u001b[0m\u001b[0m\n\u001b[1;32m---> 22\u001b[1;33m                 \u001b[0mpopulation\u001b[0m\u001b[1;33m.\u001b[0m\u001b[0mupdate\u001b[0m\u001b[1;33m(\u001b[0m\u001b[0mcrossover1\u001b[0m\u001b[1;33m(\u001b[0m\u001b[0ma\u001b[0m\u001b[1;33m,\u001b[0m \u001b[0mb\u001b[0m\u001b[1;33m,\u001b[0m \u001b[0mstart\u001b[0m\u001b[1;33m,\u001b[0m \u001b[0mend\u001b[0m\u001b[1;33m)\u001b[0m\u001b[1;33m)\u001b[0m\u001b[1;33m\u001b[0m\u001b[0m\n\u001b[0m\u001b[0;32m     23\u001b[0m \u001b[1;33m\u001b[0m\u001b[0m\n\u001b[0;32m     24\u001b[0m         \u001b[1;31m#mutation\u001b[0m\u001b[1;33m\u001b[0m\u001b[1;33m\u001b[0m\u001b[0m\n",
      "\u001b[1;32m<ipython-input-21-725f51acd616>\u001b[0m in \u001b[0;36mcrossover1\u001b[1;34m(p1, p2, start, end)\u001b[0m\n\u001b[0;32m      4\u001b[0m \u001b[1;32mdef\u001b[0m \u001b[0mcrossover1\u001b[0m\u001b[1;33m(\u001b[0m\u001b[0mp1\u001b[0m\u001b[1;33m,\u001b[0m \u001b[0mp2\u001b[0m\u001b[1;33m,\u001b[0m \u001b[0mstart\u001b[0m\u001b[1;33m,\u001b[0m \u001b[0mend\u001b[0m\u001b[1;33m)\u001b[0m\u001b[1;33m:\u001b[0m\u001b[1;33m\u001b[0m\u001b[0m\n\u001b[0;32m      5\u001b[0m     \u001b[0mchild\u001b[0m \u001b[1;33m=\u001b[0m \u001b[1;33m{\u001b[0m\u001b[1;33m}\u001b[0m\u001b[1;33m\u001b[0m\u001b[0m\n\u001b[1;32m----> 6\u001b[1;33m     \u001b[0mtemp\u001b[0m \u001b[1;33m=\u001b[0m \u001b[0mp1\u001b[0m\u001b[1;33m[\u001b[0m\u001b[0mstart\u001b[0m \u001b[1;33m:\u001b[0m \u001b[0mend\u001b[0m \u001b[1;33m+\u001b[0m \u001b[1;36m1\u001b[0m\u001b[1;33m]\u001b[0m\u001b[1;33m\u001b[0m\u001b[0m\n\u001b[0m\u001b[0;32m      7\u001b[0m     \u001b[0mcount\u001b[0m \u001b[1;33m=\u001b[0m \u001b[1;36m0\u001b[0m\u001b[1;33m\u001b[0m\u001b[0m\n\u001b[0;32m      8\u001b[0m     \u001b[1;32mfor\u001b[0m \u001b[0mi\u001b[0m \u001b[1;32min\u001b[0m \u001b[0mp2\u001b[0m\u001b[1;33m:\u001b[0m\u001b[1;33m\u001b[0m\u001b[0m\n",
      "\u001b[1;31mKeyboardInterrupt\u001b[0m: "
     ]
    }
   ],
   "source": [
    "genetic_algorithm()"
   ]
  },
  {
   "cell_type": "code",
   "execution_count": null,
   "metadata": {
    "collapsed": true
   },
   "outputs": [],
   "source": [
    "p = {1:2, 3:4}\n",
    "p.update({1:5})\n",
    "p"
   ]
  },
  {
   "cell_type": "code",
   "execution_count": null,
   "metadata": {
    "collapsed": true
   },
   "outputs": [],
   "source": [
    "a = [1, 2, 3]\n",
    "b = [3, 2, 1]\n",
    "a == b"
   ]
  },
  {
   "cell_type": "code",
   "execution_count": null,
   "metadata": {
    "collapsed": true
   },
   "outputs": [],
   "source": []
  }
 ],
 "metadata": {
  "kernelspec": {
   "display_name": "Python 3",
   "language": "python",
   "name": "python3"
  },
  "language_info": {
   "codemirror_mode": {
    "name": "ipython",
    "version": 3
   },
   "file_extension": ".py",
   "mimetype": "text/x-python",
   "name": "python",
   "nbconvert_exporter": "python",
   "pygments_lexer": "ipython3",
   "version": "3.6.1"
  }
 },
 "nbformat": 4,
 "nbformat_minor": 2
}
