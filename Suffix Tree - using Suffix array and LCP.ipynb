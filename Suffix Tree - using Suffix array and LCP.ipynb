{
 "cells": [
  {
   "cell_type": "code",
   "execution_count": 10,
   "metadata": {
    "collapsed": true
   },
   "outputs": [],
   "source": [
    "# Bucket sort for sorting suffixes\n",
    "def bucket_sort(text, buckets, order):\n",
    "    hash_map = {}\n",
    "    for bucket in buckets:\n",
    "        key = text[bucket:bucket+order]\n",
    "        \n",
    "        if key not in hash_map:\n",
    "            hash_map[key] = []\n",
    "        \n",
    "        hash_map[key].append(bucket)\n",
    "    \n",
    "    result = []\n",
    "    for key in sorted(hash_map):\n",
    "        remaining_buckets = hash_map[key]\n",
    "        \n",
    "        if len(remaining_buckets) > 1:\n",
    "            result += bucket_sort(text, remaining_buckets, order * 2)\n",
    "        else:\n",
    "            result.append(remaining_buckets[0])\n",
    "    \n",
    "    return result"
   ]
  },
  {
   "cell_type": "code",
   "execution_count": 11,
   "metadata": {},
   "outputs": [
    {
     "name": "stdout",
     "output_type": "stream",
     "text": [
      "a\n",
      "dderta\n",
      "derta\n",
      "erta\n",
      "rta\n",
      "ta\n",
      "xdderta\n",
      "zxdderta\n",
      "zzxdderta\n"
     ]
    }
   ],
   "source": [
    "a = 'zzxdderta'\n",
    "suffix_array = bucket_sort(a, range(len(a)), 1)\n",
    "\n",
    "for i in suffix_array:\n",
    "    print(a[i:])"
   ]
  },
  {
   "cell_type": "code",
   "execution_count": null,
   "metadata": {
    "collapsed": true
   },
   "outputs": [],
   "source": []
  }
 ],
 "metadata": {
  "kernelspec": {
   "display_name": "Python 3",
   "language": "python",
   "name": "python3"
  },
  "language_info": {
   "codemirror_mode": {
    "name": "ipython",
    "version": 3
   },
   "file_extension": ".py",
   "mimetype": "text/x-python",
   "name": "python",
   "nbconvert_exporter": "python",
   "pygments_lexer": "ipython3",
   "version": "3.5.4"
  }
 },
 "nbformat": 4,
 "nbformat_minor": 2
}
