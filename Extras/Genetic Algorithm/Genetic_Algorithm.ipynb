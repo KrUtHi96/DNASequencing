{
 "cells": [
  {
   "cell_type": "code",
   "execution_count": 1,
   "metadata": {},
   "outputs": [],
   "source": [
    "import numpy as np\n",
    "import random"
   ]
  },
  {
   "cell_type": "code",
   "execution_count": 2,
   "metadata": {},
   "outputs": [],
   "source": [
    "# Read from fastq file\n",
    "reads = [\n",
    "    'AACCTTTCACGGTCACCCGCGG',\n",
    "    'TTTCACGGTCACCCAGTCAACC',\n",
    "    'GGTTAAACCCGGTAACCGTCAT',\n",
    "    'AACCTTGTGCTCCCAACGTAAA',\n",
    "    'GGTTCCAAACACTTGGTCAATC',\n",
    "    'TTGGAACCTTTCACGGTCACCC']"
   ]
  },
  {
   "cell_type": "code",
   "execution_count": 3,
   "metadata": {},
   "outputs": [
    {
     "data": {
      "text/plain": [
       "22"
      ]
     },
     "execution_count": 3,
     "metadata": {},
     "output_type": "execute_result"
    }
   ],
   "source": [
    "overlap_minimum = 12\n",
    "max_error = 3\n",
    "n_pieces = max_error + 1\n",
    "piece_size = overlap_minimum // n_pieces\n",
    "num_of_reads = len(reads)\n",
    "read_len = len(reads[0])\n",
    "read_len"
   ]
  },
  {
   "cell_type": "code",
   "execution_count": 4,
   "metadata": {},
   "outputs": [],
   "source": [
    "def divide(text):\n",
    "    pieces = [text[i: i + piece_size] for i in range(0, overlap_minimum, piece_size)]\n",
    "    \n",
    "    return pieces"
   ]
  },
  {
   "cell_type": "code",
   "execution_count": 5,
   "metadata": {},
   "outputs": [],
   "source": [
    "def build_index(reads):\n",
    "    index = [None] * n_pieces\n",
    "    read_n = 1\n",
    "    \n",
    "    for read in reads:\n",
    "        for i in range(n_pieces):\n",
    "            \n",
    "            start = i * piece_size\n",
    "            \n",
    "            piece = read[start:start + piece_size]\n",
    "            \n",
    "            if index[i] == None:\n",
    "                index[i] = {}\n",
    "            if piece not in index[i]:\n",
    "                index[i][piece] = []\n",
    "                \n",
    "            index[i][piece].append(read_n)\n",
    "        read_n += 1\n",
    "    return index"
   ]
  },
  {
   "cell_type": "code",
   "execution_count": 6,
   "metadata": {},
   "outputs": [],
   "source": [
    "def get_suffixes(read):\n",
    "    N = len(read)\n",
    "    suffixes = [read[i: ] for i in range(N - overlap_minimum + 1)]\n",
    "    \n",
    "    return suffixes"
   ]
  },
  {
   "cell_type": "code",
   "execution_count": 7,
   "metadata": {},
   "outputs": [],
   "source": [
    "def overlap_scores(reads):\n",
    "    \n",
    "    num_of_reads = len(reads)\n",
    "    \n",
    "    matrix = np.zeros(shape = [num_of_reads, num_of_reads])\n",
    "    \n",
    "    index = build_index(reads)\n",
    "    \n",
    "    for read_index in range(num_of_reads):\n",
    "        for S in get_suffixes(reads[read_index]):\n",
    "            \n",
    "            pieces = divide(S[:overlap_minimum])\n",
    "            \n",
    "            for i in range(n_pieces):\n",
    "                \n",
    "                if pieces[i] in index[i]:\n",
    "                    \n",
    "                    Li = index[i][pieces[i]]\n",
    "                    \n",
    "                    for read_no in Li:\n",
    "                        \n",
    "                        temp, end = 0, (i * piece_size)                        \n",
    "                        s1, s2 = S[:end], reads[read_no - 1][:end]\n",
    "                        \n",
    "                        for char_index in range(end):\n",
    "                            if(s1[char_index] != s2[char_index]):\n",
    "                                temp += 1\n",
    "                                \n",
    "                        if temp < max_error:\n",
    "                            \n",
    "                            temp1, reached_end, start = 0, True, i * piece_size + piece_size\n",
    "                            s1, s2 = S[start:], reads[read_no - 1][start:]\n",
    "                            \n",
    "                            for char_index in range(len(s1)):\n",
    "                                if temp1 == max_error:\n",
    "                                    reached_end = False\n",
    "                                    break\n",
    "                                if s1[char_index] != s2[char_index]:\n",
    "                                    temp1 += 1\n",
    "                                    \n",
    "                            if (reached_end) and (temp1 < max_error):\n",
    "                                if read_index + 1 != read_no:\n",
    "                                    score = len(S)\n",
    "                                    matrix[read_index, read_no - 1] = score - temp\n",
    "#                                   print(read_index + 1,\" -> \", read_no, \"Score :\", score, \"Error : \", temp)\n",
    "                                    \n",
    "                        \n",
    "                    \n",
    "                    break\n",
    "    return matrix"
   ]
  },
  {
   "cell_type": "code",
   "execution_count": 8,
   "metadata": {},
   "outputs": [
    {
     "data": {
      "text/plain": [
       "array([[ 0.,  0.,  0.,  0.,  0.,  0.],\n",
       "       [ 0.,  0.,  0.,  0.,  0.,  0.],\n",
       "       [ 0.,  0.,  0.,  0.,  0.,  0.],\n",
       "       [ 0.,  0.,  0.,  0.,  0.,  0.],\n",
       "       [ 0.,  0.,  0.,  0.,  0.,  0.],\n",
       "       [18., 14.,  0.,  0.,  0.,  0.]])"
      ]
     },
     "execution_count": 8,
     "metadata": {},
     "output_type": "execute_result"
    }
   ],
   "source": [
    "overlap_matrix = overlap_scores(reads)\n",
    "overlap_matrix"
   ]
  },
  {
   "cell_type": "code",
   "execution_count": 9,
   "metadata": {},
   "outputs": [],
   "source": [
    "# appends s2 to s1 after removing overlap\n",
    "# For example - if s1 is 'datarea' and if s2 is 'eats' then this function will return 'datareats'\n",
    "def add(s1, s2):\n",
    "    offset = int(overlap_matrix[s1][s2])\n",
    "    return reads[s2][offset:]"
   ]
  },
  {
   "cell_type": "code",
   "execution_count": 10,
   "metadata": {},
   "outputs": [
    {
     "data": {
      "text/plain": [
       "22"
      ]
     },
     "execution_count": 10,
     "metadata": {},
     "output_type": "execute_result"
    }
   ],
   "source": [
    "len(add(0, 1))"
   ]
  },
  {
   "cell_type": "code",
   "execution_count": 11,
   "metadata": {},
   "outputs": [],
   "source": [
    "def generate_genome(index_list):\n",
    "    genome = reads[index_list[0]]\n",
    "    for i in range(1, len(index_list)):\n",
    "        genome += add(index_list[i - 1], index_list[i])\n",
    "    return genome"
   ]
  },
  {
   "cell_type": "code",
   "execution_count": 12,
   "metadata": {},
   "outputs": [
    {
     "data": {
      "text/plain": [
       "92"
      ]
     },
     "execution_count": 12,
     "metadata": {},
     "output_type": "execute_result"
    }
   ],
   "source": [
    "len(generate_genome([5, 0, 3, 2, 1]))"
   ]
  },
  {
   "cell_type": "code",
   "execution_count": 13,
   "metadata": {},
   "outputs": [],
   "source": [
    "def initialize_population(size):\n",
    "    i = 0\n",
    "    population = {} # key is genome and value is index of the reads used to create that genome\n",
    "    while i < size:\n",
    "        index_list = [] # To remember the order of the reads used for the generation of genome -\n",
    "        # - helps in calculation of fitness scores\n",
    "        temp = list(range(num_of_reads))\n",
    "        while temp:\n",
    "            index = random.choice(temp)\n",
    "            temp.remove(index)\n",
    "            index_list.append(index)\n",
    "        genome = generate_genome(index_list)\n",
    "        if genome not in population:\n",
    "            population[genome] = index_list\n",
    "            i += 1\n",
    "    return population"
   ]
  },
  {
   "cell_type": "code",
   "execution_count": 14,
   "metadata": {},
   "outputs": [
    {
     "name": "stdout",
     "output_type": "stream",
     "text": [
      "{'GGTTCCAAACACTTGGTCAATCAACCTTGTGCTCCCAACGTAAAGGTTAAACCCGGTAACCGTCATAACCTTTCACGGTCACCCGCGGTTGGAACCTTTCACGGTCACCCAGTCAACC': [4, 3, 2, 0, 5, 1], 'GGTTCCAAACACTTGGTCAATCTTTCACGGTCACCCAGTCAACCAACCTTTCACGGTCACCCGCGGGGTTAAACCCGGTAACCGTCATTTGGAACCTTTCACGGTCACCCAACCTTGTGCTCCCAACGTAAA': [4, 1, 0, 2, 5, 3], 'GGTTAAACCCGGTAACCGTCATTTGGAACCTTTCACGGTCACCCGCGGAACCTTGTGCTCCCAACGTAAAGGTTCCAAACACTTGGTCAATCTTTCACGGTCACCCAGTCAACC': [2, 5, 0, 3, 4, 1]}\n"
     ]
    }
   ],
   "source": [
    "population = initialize_population(3)\n",
    "print(population)"
   ]
  },
  {
   "cell_type": "code",
   "execution_count": 15,
   "metadata": {},
   "outputs": [],
   "source": [
    "# Calculates overlap score for adjacent fragments\n",
    "def fitness_score1(index_list):\n",
    "    score = 0\n",
    "    for i in range(len(index_list) - 1):\n",
    "        score += overlap_matrix[index_list[i]][index_list[i + 1]]\n",
    "    return score"
   ]
  },
  {
   "cell_type": "code",
   "execution_count": 16,
   "metadata": {},
   "outputs": [
    {
     "name": "stdout",
     "output_type": "stream",
     "text": [
      "14.0\n",
      "0.0\n",
      "18.0\n"
     ]
    }
   ],
   "source": [
    "for i in population:\n",
    "    print(fitness_score1(population[i]))"
   ]
  },
  {
   "cell_type": "code",
   "execution_count": 17,
   "metadata": {},
   "outputs": [],
   "source": [
    "# Calculates overlap score for all pairs of fragments - see paper\n",
    "def fitness_score2(index_list):\n",
    "    score = 0\n",
    "    for i in range(len(index_list) - 1):\n",
    "        for j in range(len(index_list) - 1):\n",
    "            score = score + (abs(i - j) * overlap_matrix[index_list[i]][index_list[j]])\n",
    "    return score"
   ]
  },
  {
   "cell_type": "code",
   "execution_count": 18,
   "metadata": {},
   "outputs": [
    {
     "name": "stdout",
     "output_type": "stream",
     "text": [
      "18.0\n",
      "78.0\n",
      "18.0\n"
     ]
    }
   ],
   "source": [
    "for i in population:\n",
    "    print(fitness_score2(population[i]))"
   ]
  },
  {
   "cell_type": "code",
   "execution_count": 19,
   "metadata": {},
   "outputs": [],
   "source": [
    "# Selection based on ranking - so sorting required\n",
    "# fn - which fitness function to use\n",
    "def selection(population, n, fn):\n",
    "    # Sort the genomes based on fitness_scores in descending order\n",
    "    # return the first n genomes\n",
    "    new_population = {}\n",
    "    fitness = {}\n",
    "    for i in population:\n",
    "        fitness[i] = fn(population[i])\n",
    "    ordered = sorted(fitness.items(), key = lambda x : x[1], reverse = True)\n",
    "    for i in range(n):\n",
    "        genome = ordered[i][0]\n",
    "        new_population[genome] = population[genome]\n",
    "    return new_population, fitness"
   ]
  },
  {
   "cell_type": "code",
   "execution_count": 20,
   "metadata": {},
   "outputs": [
    {
     "name": "stdout",
     "output_type": "stream",
     "text": [
      "{'GGTTAAACCCGGTAACCGTCATTTGGAACCTTTCACGGTCACCCGCGGAACCTTGTGCTCCCAACGTAAAGGTTCCAAACACTTGGTCAATCTTTCACGGTCACCCAGTCAACC': [2, 5, 0, 3, 4, 1], 'GGTTCCAAACACTTGGTCAATCAACCTTGTGCTCCCAACGTAAAGGTTAAACCCGGTAACCGTCATAACCTTTCACGGTCACCCGCGGTTGGAACCTTTCACGGTCACCCAGTCAACC': [4, 3, 2, 0, 5, 1]} {'GGTTCCAAACACTTGGTCAATCAACCTTGTGCTCCCAACGTAAAGGTTAAACCCGGTAACCGTCATAACCTTTCACGGTCACCCGCGGTTGGAACCTTTCACGGTCACCCAGTCAACC': 14.0, 'GGTTCCAAACACTTGGTCAATCTTTCACGGTCACCCAGTCAACCAACCTTTCACGGTCACCCGCGGGGTTAAACCCGGTAACCGTCATTTGGAACCTTTCACGGTCACCCAACCTTGTGCTCCCAACGTAAA': 0.0, 'GGTTAAACCCGGTAACCGTCATTTGGAACCTTTCACGGTCACCCGCGGAACCTTGTGCTCCCAACGTAAAGGTTCCAAACACTTGGTCAATCTTTCACGGTCACCCAGTCAACC': 18.0}\n"
     ]
    }
   ],
   "source": [
    "population, fitness = selection(population, 2, fitness_score1)\n",
    "print(population, fitness)"
   ]
  },
  {
   "cell_type": "code",
   "execution_count": 21,
   "metadata": {},
   "outputs": [],
   "source": [
    "# Order 1 crossover - swath(strip of area) is from start to end both inclusive\n",
    "# p1, p2 are the index_list of the population\n",
    "# child is also an index_list\n",
    "def crossover1(p1, p2, start, end):\n",
    "    temp = p1[start : end + 1]\n",
    "    count = 0\n",
    "    for i in p2:\n",
    "        if i not in temp:\n",
    "            if count < start:\n",
    "                temp = [i] + temp\n",
    "            else:\n",
    "                temp = temp + [i]\n",
    "            count += 1\n",
    "    genome = generate_genome(temp)\n",
    "    return genome, temp"
   ]
  },
  {
   "cell_type": "code",
   "execution_count": 22,
   "metadata": {},
   "outputs": [
    {
     "name": "stdout",
     "output_type": "stream",
     "text": [
      "{'GGTTAAACCCGGTAACCGTCATTTGGAACCTTTCACGGTCACCCGCGGAACCTTGTGCTCCCAACGTAAAGGTTCCAAACACTTGGTCAATCTTTCACGGTCACCCAGTCAACC': [2, 5, 0, 3, 4, 1], 'GGTTCCAAACACTTGGTCAATCAACCTTGTGCTCCCAACGTAAAGGTTAAACCCGGTAACCGTCATAACCTTTCACGGTCACCCGCGGTTGGAACCTTTCACGGTCACCCAGTCAACC': [4, 3, 2, 0, 5, 1]}\n"
     ]
    },
    {
     "data": {
      "text/plain": [
       "('GGTTCCAAACACTTGGTCAATCTTGGAACCTTTCACGGTCACCCGCGGAACCTTGTGCTCCCAACGTAAAGGTTAAACCCGGTAACCGTCATTTTCACGGTCACCCAGTCAACC',\n",
       " [4, 5, 0, 3, 2, 1])"
      ]
     },
     "execution_count": 22,
     "metadata": {},
     "output_type": "execute_result"
    }
   ],
   "source": [
    "print(population)\n",
    "keys = list(population.keys())\n",
    "crossover1(population[keys[0]], population[keys[1]], 1, 3)"
   ]
  },
  {
   "cell_type": "code",
   "execution_count": 23,
   "metadata": {},
   "outputs": [],
   "source": [
    "# Edge Recombination\n",
    "\n",
    "def find_neighbours(index_list_1, index_list_2):\n",
    "    neighbours = {}\n",
    "    length_1 = len(index_list_1)\n",
    "    length_2 = len(index_list_2)\n",
    "\n",
    "    for i, idx in enumerate(index_list_1):\n",
    "        neighbours[idx] = {index_list_1[i - 1], index_list_1[(i + 1) % length_1]}\n",
    "\n",
    "    for i, idx in enumerate(index_list_2):\n",
    "        neighbours[idx].add(index_list_2[i - 1])\n",
    "        neighbours[idx].add(index_list_2[(i + 1) % length_2])\n",
    "\n",
    "    return neighbours\n",
    "\n",
    "def crossover_edge_recombination(p1, p2):\n",
    "    length = len(p1)\n",
    "\n",
    "    neighbour_list = find_neighbours(p1, p2)\n",
    "    #print('Neighbour List:', neighbour_list)\n",
    "\n",
    "    current_node = random.choice((p1[0], p2[0]))\n",
    "    #print('Start node:', current_node)\n",
    "\n",
    "    child = [current_node]\n",
    "    while len(child) < length:\n",
    "        # Remove selected node from neighbour_lists\n",
    "        for node in neighbour_list:\n",
    "            if current_node in neighbour_list[node]:\n",
    "                neighbour_list[node].remove(current_node)\n",
    "\n",
    "        min_neigh_list = neighbour_list[current_node]\n",
    "        del neighbour_list[current_node]\n",
    "\n",
    "        if len(min_neigh_list) > 0:  # if the chosen node has any neighbours\n",
    "            # get the best match out of neighbours as next\n",
    "            max_overlap = overlap_matrix[\n",
    "                current_node, max(min_neigh_list, key=lambda x: overlap_matrix[current_node, x])]\n",
    "            possibilities = list(\n",
    "                filter(lambda x: overlap_matrix[current_node, x] == max_overlap, min_neigh_list))\n",
    "            current_node = possibilities[random.randint(0, len(possibilities) - 1)]\n",
    "        else:\n",
    "            # get the best match out of every node as next\n",
    "            max_overlap = overlap_matrix[\n",
    "                current_node, max(neighbour_list, key=lambda x: overlap_matrix[current_node, x])]\n",
    "            possibilities = list(\n",
    "                filter(lambda x: overlap_matrix[current_node, x] == max_overlap, neighbour_list))\n",
    "            current_node = possibilities[random.randint(0, len(possibilities) - 1)]\n",
    "        child.append(current_node)  # add the node to the solution\n",
    "    return generate_genome(child), child"
   ]
  },
  {
   "cell_type": "code",
   "execution_count": 24,
   "metadata": {},
   "outputs": [],
   "source": [
    "def mutation(index_list):\n",
    "    a = random.randint(0, num_of_reads - 1)\n",
    "    b = random.randint(0, num_of_reads - 1)\n",
    "    index_list[a], index_list[b] = index_list[b], index_list[a]\n",
    "    return index_list"
   ]
  },
  {
   "cell_type": "code",
   "execution_count": 25,
   "metadata": {},
   "outputs": [
    {
     "name": "stdout",
     "output_type": "stream",
     "text": [
      "[4, 1, 2, 3, 0, 5] GGTTCCAAACACTTGGTCAATCTTTCACGGTCACCCAGTCAACCGGTTAAACCCGGTAACCGTCATAACCTTGTGCTCCCAACGTAAAAACCTTTCACGGTCACCCGCGGTTGGAACCTTTCACGGTCACCC\n"
     ]
    }
   ],
   "source": [
    "temp = mutation([0, 1, 2, 3, 4, 5])\n",
    "print(temp, generate_genome(temp))"
   ]
  },
  {
   "cell_type": "code",
   "execution_count": null,
   "metadata": {},
   "outputs": [],
   "source": [
    "def genetic_algorithm(size = 5, generations = 100, select_n = 3, threshold = 20, start = 2, end = 4):\n",
    "    population = initialize_population(size)\n",
    "    count = 1\n",
    "    while count < generations:\n",
    "        print(\"Iteration:\", count)\n",
    "\n",
    "        population, fitness = selection(population, select_n, fitness_score1)\n",
    "        \n",
    "        #if any fitness core is greater than 100 break\n",
    "        for i in fitness:\n",
    "            if fitness[i] >= threshold:\n",
    "                return i\n",
    "        \n",
    "        #crossover\n",
    "        while len(population) < size:\n",
    "            #print(len(population), size)\n",
    "            temp = list(population.values())\n",
    "            a = random.choice(temp)\n",
    "            b = random.choice(temp)\n",
    "            if a != b:\n",
    "                #print(\"CHeck\", a, b)\n",
    "                #genome, index_list = crossover1(a, b, start, end)\n",
    "                \n",
    "                new_genome, index_list = crossover_edge_recombination(a, b)\n",
    "                if new_genome not in population:\n",
    "                    population[new_genome] = index_list\n",
    "        \n",
    "        # mutation\n",
    "        for i in list(population.keys()):\n",
    "            temp = mutation(population[i])\n",
    "            temp_gen = generate_genome(temp)\n",
    "            if temp_gen not in population:\n",
    "                population.pop(i)\n",
    "                population[temp_gen] = temp\n",
    "    \n",
    "        count += 1\n",
    "\n",
    "    return None"
   ]
  },
  {
   "cell_type": "code",
   "execution_count": null,
   "metadata": {
    "scrolled": true
   },
   "outputs": [
    {
     "name": "stdout",
     "output_type": "stream",
     "text": [
      "Iteration: 1\n",
      "Iteration: 2\n",
      "Iteration: 3\n",
      "Iteration: 4\n",
      "Iteration: 5\n",
      "Iteration: 6\n",
      "Iteration: 7\n",
      "Iteration: 8\n",
      "Iteration: 9\n",
      "Iteration: 10\n",
      "Iteration: 11\n",
      "Iteration: 12\n",
      "Iteration: 13\n",
      "Iteration: 14\n"
     ]
    }
   ],
   "source": [
    "genetic_algorithm()"
   ]
  },
  {
   "cell_type": "code",
   "execution_count": null,
   "metadata": {},
   "outputs": [],
   "source": []
  },
  {
   "cell_type": "code",
   "execution_count": null,
   "metadata": {},
   "outputs": [],
   "source": []
  },
  {
   "cell_type": "code",
   "execution_count": null,
   "metadata": {},
   "outputs": [],
   "source": []
  }
 ],
 "metadata": {
  "kernelspec": {
   "display_name": "Python 3",
   "language": "python",
   "name": "python3"
  },
  "language_info": {
   "codemirror_mode": {
    "name": "ipython",
    "version": 3
   },
   "file_extension": ".py",
   "mimetype": "text/x-python",
   "name": "python",
   "nbconvert_exporter": "python",
   "pygments_lexer": "ipython3",
   "version": "3.6.4"
  }
 },
 "nbformat": 4,
 "nbformat_minor": 2
}
